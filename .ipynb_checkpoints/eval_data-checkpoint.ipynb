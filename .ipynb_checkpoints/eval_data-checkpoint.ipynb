{
 "cells": [
  {
   "cell_type": "code",
   "execution_count": 1,
   "metadata": {
    "ExecuteTime": {
     "end_time": "2024-01-23T16:31:21.448265Z",
     "start_time": "2024-01-23T16:31:21.383284Z"
    }
   },
   "outputs": [],
   "source": [
    "import numpy as np\n",
    "import matplotlib.pyplot as plt"
   ]
  },
  {
   "cell_type": "code",
   "execution_count": 2,
   "metadata": {
    "ExecuteTime": {
     "end_time": "2024-01-15T16:36:34.695415Z",
     "start_time": "2024-01-15T16:36:34.692898Z"
    }
   },
   "outputs": [],
   "source": [
    "path_stable = [\"/home/rosa/Documents/Uni/Masterarbeit/checkpoints/skill_conditioned_2x2_eval01_num_skills8_neg_distFalse_movementFalse_reward_on_changeTrue_sparseTrue\",\n",
    "              \"/home/rosa/Documents/Uni/Masterarbeit/checkpoints/skill_conditioned_2x2_eval02_num_skills8_neg_distFalse_movementFalse_reward_on_changeTrue_sparseTrue/evaluations.npz\",\n",
    "              \"/home/rosa/Documents/Uni/Masterarbeit/checkpoints/skill_conditioned_2x2_eval03_num_skills8_neg_distFalse_movementFalse_reward_on_changeTrue_sparseTrue/evaluations.npz\",\n",
    "              \"/home/rosa/Documents/Uni/Masterarbeit/checkpoints/skill_conditioned_2x2_eval04_num_skills8_neg_distFalse_movementFalse_reward_on_changeTrue_sparseTrue/evaluations.npz\",\n",
    "              \"/home/rosa/Documents/Uni/Masterarbeit/checkpoints/skill_conditioned_2x2_eval05_num_skills8_neg_distFalse_movementFalse_reward_on_changeTrue_sparseTrue/evaluations.npz\"]\n",
    "path_pran = [\"/home/rosa/Documents/Uni/Masterarbeit/pytorch-soft-actor-critic/2x2_sparse_comp_500.npz\"]"
   ]
  },
  {
   "cell_type": "code",
   "execution_count": 3,
   "metadata": {},
   "outputs": [
    {
     "ename": "FileNotFoundError",
     "evalue": "[Errno 2] No such file or directory: '/home/rosa/Documents/Uni/Masterarbeit/checkpoints/skill_conditioned_2x2_eval02_num_skills8_neg_distFalse_movementFalse_reward_on_changeTrue_sparseTrue/evaluations.npz'",
     "output_type": "error",
     "traceback": [
      "\u001b[0;31m---------------------------------------------------------------------------\u001b[0m",
      "\u001b[0;31mFileNotFoundError\u001b[0m                         Traceback (most recent call last)",
      "Cell \u001b[0;32mIn[3], line 1\u001b[0m\n\u001b[0;32m----> 1\u001b[0m data_stable \u001b[38;5;241m=\u001b[39m \u001b[43mnp\u001b[49m\u001b[38;5;241;43m.\u001b[39;49m\u001b[43mload\u001b[49m\u001b[43m(\u001b[49m\u001b[43mpath_stable\u001b[49m\u001b[43m[\u001b[49m\u001b[38;5;241;43m1\u001b[39;49m\u001b[43m]\u001b[49m\u001b[43m,\u001b[49m\u001b[43m \u001b[49m\u001b[43mmmap_mode\u001b[49m\u001b[38;5;241;43m=\u001b[39;49m\u001b[38;5;124;43m'\u001b[39;49m\u001b[38;5;124;43mr\u001b[39;49m\u001b[38;5;124;43m'\u001b[39;49m\u001b[43m)\u001b[49m\n\u001b[1;32m      2\u001b[0m \u001b[38;5;28;01mfor\u001b[39;00m k \u001b[38;5;129;01min\u001b[39;00m data_stable\u001b[38;5;241m.\u001b[39mfiles:\n\u001b[1;32m      3\u001b[0m     \u001b[38;5;28mprint\u001b[39m(k, data_stable[k])\n",
      "File \u001b[0;32m~/.local/lib/python3.10/site-packages/numpy/lib/npyio.py:405\u001b[0m, in \u001b[0;36mload\u001b[0;34m(file, mmap_mode, allow_pickle, fix_imports, encoding, max_header_size)\u001b[0m\n\u001b[1;32m    403\u001b[0m     own_fid \u001b[38;5;241m=\u001b[39m \u001b[38;5;28;01mFalse\u001b[39;00m\n\u001b[1;32m    404\u001b[0m \u001b[38;5;28;01melse\u001b[39;00m:\n\u001b[0;32m--> 405\u001b[0m     fid \u001b[38;5;241m=\u001b[39m stack\u001b[38;5;241m.\u001b[39menter_context(\u001b[38;5;28;43mopen\u001b[39;49m\u001b[43m(\u001b[49m\u001b[43mos_fspath\u001b[49m\u001b[43m(\u001b[49m\u001b[43mfile\u001b[49m\u001b[43m)\u001b[49m\u001b[43m,\u001b[49m\u001b[43m \u001b[49m\u001b[38;5;124;43m\"\u001b[39;49m\u001b[38;5;124;43mrb\u001b[39;49m\u001b[38;5;124;43m\"\u001b[39;49m\u001b[43m)\u001b[49m)\n\u001b[1;32m    406\u001b[0m     own_fid \u001b[38;5;241m=\u001b[39m \u001b[38;5;28;01mTrue\u001b[39;00m\n\u001b[1;32m    408\u001b[0m \u001b[38;5;66;03m# Code to distinguish from NumPy binary files and pickles.\u001b[39;00m\n",
      "\u001b[0;31mFileNotFoundError\u001b[0m: [Errno 2] No such file or directory: '/home/rosa/Documents/Uni/Masterarbeit/checkpoints/skill_conditioned_2x2_eval02_num_skills8_neg_distFalse_movementFalse_reward_on_changeTrue_sparseTrue/evaluations.npz'"
     ]
    }
   ],
   "source": [
    "data_stable = np.load(path_stable[1], mmap_mode='r')\n",
    "for k in data_stable.files:\n",
    "    print(k, data_stable[k])\n",
    "    \n",
    "data_pran = np.load(path_pran[1], mmap_mode='r')\n",
    "for k in data_pran.files:\n",
    "    print(k, data_pran[k])"
   ]
  },
  {
   "cell_type": "code",
   "execution_count": null,
   "metadata": {},
   "outputs": [],
   "source": [
    "plt.figure()\n",
    "\n",
    "for i in range(len(path_stable)):\n",
    "    data_stable = np.load(path_stable[i], mmap_mode='r')\n",
    "    mean_return_stable = np.sum(data_stable[\"results\"], axis=1) / data_stable[\"results\"].shape[1] # average over number of eval episodes\n",
    "    plt.plot(data_stable[\"timesteps\"], mean_reward_stable, label=f\"Stable Baselines3 run {i}\")\n",
    "\n",
    "for i in range(len(path_pran)):\n",
    "    data_pran = np.load(path_pran[i], mmap_mode='r')\n",
    "    mean_return_pran = np.sum(data_pran[\"results\"], axis=1) / data_pran[\"results\"].shape[1]\n",
    "    plt.plot(data_pran[\"timesteps\"], mean_reward_pran, label=\"Tandon\")\n",
    "\n",
    "print(\"num = \", data_stable[\"results\"].shape[1])\n",
    "\n",
    "\n",
    "plt.xlabel(\"environment steps\")\n",
    "plt.ylabel(\"mean reward over 5 evaluation episodes\")\n",
    "plt.legend()\n",
    "\n",
    "plt.show()"
   ]
  },
  {
   "cell_type": "code",
   "execution_count": null,
   "metadata": {},
   "outputs": [],
   "source": [
    "for key, value in data_stable.items():\n",
    "    np.savetxt(\"eval_data_stable\" + key + \".csv\", value)"
   ]
  },
  {
   "cell_type": "code",
   "execution_count": 4,
   "metadata": {},
   "outputs": [
    {
     "ename": "NameError",
     "evalue": "name 'data_pran' is not defined",
     "output_type": "error",
     "traceback": [
      "\u001b[0;31m---------------------------------------------------------------------------\u001b[0m",
      "\u001b[0;31mNameError\u001b[0m                                 Traceback (most recent call last)",
      "Cell \u001b[0;32mIn[4], line 1\u001b[0m\n\u001b[0;32m----> 1\u001b[0m \u001b[38;5;28;01mfor\u001b[39;00m key, value \u001b[38;5;129;01min\u001b[39;00m \u001b[43mdata_pran\u001b[49m\u001b[38;5;241m.\u001b[39mitems():\n\u001b[1;32m      2\u001b[0m     np\u001b[38;5;241m.\u001b[39msavetxt(\u001b[38;5;124m\"\u001b[39m\u001b[38;5;124meval_data_pran\u001b[39m\u001b[38;5;124m\"\u001b[39m \u001b[38;5;241m+\u001b[39m key \u001b[38;5;241m+\u001b[39m \u001b[38;5;124m\"\u001b[39m\u001b[38;5;124m.csv\u001b[39m\u001b[38;5;124m\"\u001b[39m, value)\n",
      "\u001b[0;31mNameError\u001b[0m: name 'data_pran' is not defined"
     ]
    }
   ],
   "source": [
    "for key, value in data_pran.items():\n",
    "    np.savetxt(\"eval_data_pran\" + key + \".csv\", value)"
   ]
  },
  {
   "cell_type": "code",
   "execution_count": null,
   "metadata": {},
   "outputs": [],
   "source": [
    "data.close()"
   ]
  },
  {
   "cell_type": "code",
   "execution_count": 5,
   "metadata": {},
   "outputs": [],
   "source": [
    "data_simple = \"fm_eval_empty_input_4skills.npz\"\n",
    "data_symstate = \"fm_eval_sym_input_4skills.npz\""
   ]
  },
  {
   "cell_type": "code",
   "execution_count": null,
   "metadata": {},
   "outputs": [],
   "source": [
    "data_simple = np.load(path_stable[1], mmap_mode='r')\n",
    "for k in data_stable.files:\n",
    "    print(k, data_stable[k])\n",
    "    \n",
    "data_pran = np.load(path_pran[1], mmap_mode='r')\n",
    "for k in data_pran.files:\n",
    "    print(k, data_pran[k])"
   ]
  }
 ],
 "metadata": {
  "kernelspec": {
   "display_name": "Python 3 (ipykernel)",
   "language": "python",
   "name": "python3"
  },
  "language_info": {
   "codemirror_mode": {
    "name": "ipython",
    "version": 3
   },
   "file_extension": ".py",
   "mimetype": "text/x-python",
   "name": "python",
   "nbconvert_exporter": "python",
   "pygments_lexer": "ipython3",
   "version": "3.10.12"
  }
 },
 "nbformat": 4,
 "nbformat_minor": 1
}
