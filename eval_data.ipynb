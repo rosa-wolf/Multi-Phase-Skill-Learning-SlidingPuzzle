{
 "cells": [
  {
   "cell_type": "code",
   "execution_count": 1,
   "metadata": {
    "ExecuteTime": {
     "start_time": "2024-02-06T12:35:00.901240Z",
     "end_time": "2024-02-06T12:35:02.394708Z"
    }
   },
   "outputs": [],
   "source": [
    "import numpy as np\n",
    "import matplotlib.pyplot as plt\n",
    "import matplotlib\n",
    "plt.rcParams.update(plt.rcParamsDefault)\n",
    "#matplotlib.rcParams['mathtext.fontset'] = 'cm'\n",
    "#matplotlib.rcParams['font.family'] = 'STIXGeneral'\n",
    "\n",
    "#Direct input\n",
    "#plt.rcParams['text.latex.preamble']=[r\"\\usepackage{lmodern}\"]\n",
    "#Options\n",
    "\n",
    "tex_fonts = {\n",
    "    # Use LaTeX to write all text\n",
    "    \"text.usetex\": True,\n",
    "    \"font.family\": \"serif\",\n",
    "    # Use 10pt font in plots, to match 10pt font in document\n",
    "    \"axes.labelsize\": 10,\n",
    "    \"font.size\": 10,\n",
    "    # Make the legend/label fonts a little smaller\n",
    "    \"legend.fontsize\": 8,\n",
    "    \"xtick.labelsize\": 8,\n",
    "    \"ytick.labelsize\": 8,\n",
    "    \"axes.titlesize\":10\n",
    "}\n",
    "plt.rcParams.update(tex_fonts)\n",
    "\n",
    "# font is  \\OT1/cmr/m/n/10.95\n",
    "#matplotlib.rcParams['font.serif'] = ['Courier']\n",
    "\n",
    "# textwidth in latex in inches\n",
    "TEXTWIDTH = 5.7885\n",
    "\n",
    "plt.rcParams['xtick.major.pad']='1.5'\n",
    "plt.rcParams['ytick.major.pad']='1'"
   ]
  },
  {
   "cell_type": "code",
   "execution_count": 2,
   "metadata": {
    "ExecuteTime": {
     "start_time": "2024-02-06T12:35:05.719111Z",
     "end_time": "2024-02-06T12:35:05.938458Z"
    }
   },
   "outputs": [],
   "source": [
    "def compute_mean_std(y_data):\n",
    "    \"\"\"\n",
    "    Plots the average over all ys as bold line and standart deviation as shaded area\n",
    "    Each entry in y_array list will become one line\n",
    "    :param y_data: data to take mean and std of\n",
    "    \"\"\"\n",
    "    mean = np.mean(y_data, axis=0)\n",
    "    std = np.std(y_data, axis=0)\n",
    "\n",
    "    return mean, std\n"
   ]
  },
  {
   "cell_type": "code",
   "execution_count": 3,
   "metadata": {
    "ExecuteTime": {
     "start_time": "2024-02-06T12:35:06.968546Z",
     "end_time": "2024-02-06T12:35:07.153309Z"
    }
   },
   "outputs": [],
   "source": [
    "def gather_data(path, x, idx):\n",
    "    \"\"\"\n",
    "    Gather data, to the corresponding x-data until idx\n",
    "    \"\"\"\n",
    "    y_data_returns = np.zeros((len(path), x.shape[0]))\n",
    "    y_data_succ = np.zeros((len(path), x.shape[0]))\n",
    "\n",
    "    for i in range(len(path)):\n",
    "        data = np.load(path[i], mmap_mode='r')\n",
    "        for k in data.keys():\n",
    "            print(f\" key = {k}\\n {data[k]}\")\n",
    "\n",
    "        # take mean over 10 eval episodes of one run\n",
    "        returns = data[\"results\"][idx]\n",
    "        success_rate = returns.copy()\n",
    "        success_rate[np.where(returns > 0)] = 1\n",
    "        success_rate[np.where(returns < 0)] = -1\n",
    "\n",
    "        mean_return = np.sum(returns, axis=1) / data[\"results\"].shape[1] # average over number of eval episodes\n",
    "        success_rate = np.sum(success_rate, axis=1) / data[\"results\"].shape[1] # average over number of eval episodes\n",
    "\n",
    "        # gather values of different runs\n",
    "        y_data_returns[i] = mean_return\n",
    "        y_data_succ[i] = success_rate\n",
    "\n",
    "    return y_data_returns, y_data_succ\n"
   ]
  },
  {
   "cell_type": "markdown",
   "source": [
    "# **Comparison of Puzzle Sizes**"
   ],
   "metadata": {
    "collapsed": false
   }
  },
  {
   "cell_type": "code",
   "execution_count": 20,
   "outputs": [],
   "source": [
    "path_1x2 = [\"/home/rosa/Documents/Uni/Masterarbeit/checkpoints/1x2_neg_distTrue_movementFalse_reward_on_changeTrue_sparseFalse_seed12345/evaluations.npz\",\n",
    "            \"/home/rosa/Documents/Uni/Masterarbeit/checkpoints/1x2_neg_distTrue_movementFalse_reward_on_changeTrue_sparseFalse_seed25971/evaluations.npz\",\n",
    "            \"/home/rosa/Documents/Uni/Masterarbeit/checkpoints/1x2_neg_distTrue_movementFalse_reward_on_changeTrue_sparseFalse_seed19471/evaluations.npz\",\n",
    "            \"/home/rosa/Documents/Uni/Masterarbeit/checkpoints/1x2_neg_distTrue_movementFalse_reward_on_changeTrue_sparseFalse_seed47581/evaluations.npz\"]\n",
    "\n",
    "path_2x2 = [\"/home/rosa/Documents/Uni/Masterarbeit/checkpoints/2x2_neg_distTrue_movementFalse_reward_on_changeTrue_sparseFalse_seed12345/evaluations.npz\",\n",
    "            \"/home/rosa/Documents/Uni/Masterarbeit/checkpoints/2x2_neg_distTrue_movementFalse_reward_on_changeTrue_sparseFalse_seed25971/evaluations.npz\",\n",
    "            \"/home/rosa/Documents/Uni/Masterarbeit/checkpoints/2x2_neg_distTrue_movementFalse_reward_on_changeTrue_sparseFalse_seed19471/evaluations.npz\",\n",
    "            \"/home/rosa/Documents/Uni/Masterarbeit/checkpoints/2x2_neg_distTrue_movementFalse_reward_on_changeTrue_sparseFalse_seed47581/evaluations.npz\"]\n",
    "\n",
    "path_2x3 = [\"/home/rosa/Documents/Uni/Masterarbeit/checkpoints/2x3_neg_distTrue_movementFalse_reward_on_changeTrue_sparseFalse_seed12345/evaluations.npz\",\n",
    "            \"/home/rosa/Documents/Uni/Masterarbeit/checkpoints/2x3_neg_distTrue_movementFalse_reward_on_changeTrue_sparseFalse_seed25971/evaluations.npz\",\n",
    "            \"/home/rosa/Documents/Uni/Masterarbeit/checkpoints/2x3_neg_distTrue_movementFalse_reward_on_changeTrue_sparseFalse_seed19471/evaluations.npz\",\n",
    "            \"/home/rosa/Documents/Uni/Masterarbeit/checkpoints/2x3_neg_distTrue_movementFalse_reward_on_changeTrue_sparseFalse_seed47581/evaluations.npz\"]\n",
    "\n",
    "path_3x3 = [\"/home/rosa/Documents/Uni/Masterarbeit/checkpoints/3x3_neg_distTrue_movementFalse_reward_on_changeTrue_sparseFalse_seed12345/evaluations.npz\",\n",
    "            \"/home/rosa/Documents/Uni/Masterarbeit/checkpoints/3x3_neg_distTrue_movementFalse_reward_on_changeTrue_sparseFalse_seed25971/evaluations.npz\",\n",
    "            \"/home/rosa/Documents/Uni/Masterarbeit/checkpoints/3x3_neg_distTrue_movementFalse_reward_on_changeTrue_sparseFalse_seed19471/evaluations.npz\",\n",
    "            \"/home/rosa/Documents/Uni/Masterarbeit/checkpoints/3x3_neg_distTrue_movementFalse_reward_on_changeTrue_sparseFalse_seed47581/evaluations.npz\"]"
   ],
   "metadata": {
    "collapsed": false,
    "ExecuteTime": {
     "start_time": "2024-02-06T12:32:51.049518Z",
     "end_time": "2024-02-06T12:32:51.171035Z"
    }
   }
  },
  {
   "cell_type": "code",
   "execution_count": 21,
   "outputs": [],
   "source": [
    "x = np.load(path_3x3[0], mmap_mode='r')[\"timesteps\"]\n",
    "idx = np.where(x <= 2230000)\n",
    "x = x[idx]\n",
    "\n",
    "returns_1x2, succ_1x2 = gather_data(path_1x2, x, idx)\n",
    "returns_2x2, succ_2x2 = gather_data(path_2x2, x, idx)\n",
    "returns_2x3, succ_2x3 = gather_data(path_2x3, x, idx)\n",
    "returns_3x3, succ_3x3 = gather_data(path_3x3, x, idx)\n",
    "\n",
    "mean_succ_1x2, std_succ_1x2 = compute_mean_std(x, succ_1x2)\n",
    "mean_succ_2x2, std_succ_2x2 = compute_mean_std(x, succ_2x2)\n",
    "mean_succ_2x3, std_succ_2x3 = compute_mean_std(x, succ_2x3)\n",
    "mean_succ_3x3, std_succ_3x3 = compute_mean_std(x, succ_3x3)"
   ],
   "metadata": {
    "collapsed": false,
    "ExecuteTime": {
     "start_time": "2024-02-05T15:54:46.655005Z",
     "end_time": "2024-02-05T15:54:46.960064Z"
    }
   }
  },
  {
   "cell_type": "code",
   "execution_count": 23,
   "outputs": [],
   "source": [
    "fig, ax = plt.subplots(1, 1, figsize=(TEXTWIDTH +0.1, TEXTWIDTH * (5**.5 - 1.2) / 2))\n",
    "\n",
    "ax.plot(x, mean_succ_1x2, label=\"1x2 Puzzle\")\n",
    "ax.fill_between(x, mean_succ_1x2 + std_succ_1x2, mean_succ_1x2 - std_succ_1x2, alpha=0.3)\n",
    "\n",
    "ax.plot(x, mean_succ_2x2, label=\"2x2 Puzzle\")\n",
    "ax.fill_between(x, mean_succ_2x2 + std_succ_1x2, mean_succ_2x2 - std_succ_2x2, alpha=0.3)\n",
    "\n",
    "ax.plot(x, mean_succ_2x3, label=\"2x3 Puzzle\")\n",
    "ax.fill_between(x, mean_succ_2x3 + std_succ_2x3, mean_succ_2x3 - std_succ_2x3, alpha=0.3)\n",
    "\n",
    "ax.plot(x, mean_succ_3x3, label=\"3x3 Puzzle\")\n",
    "ax.fill_between(x, mean_succ_3x3 + std_succ_3x3, mean_succ_3x3 - std_succ_3x3, alpha=0.3)\n",
    "\n",
    "ax.set_ylim(top=1.)\n",
    "ax.set_title(\"Sparse and Neg Dist Reward\")\n",
    "\n",
    "#ax[0, 0].set_xticklabels([])\n",
    "\n",
    "#for i in range(2):\n",
    "#    for j in range(3):\n",
    "#        ax[i, j].locator_params(axis='y', nbins=3)\n",
    "\n",
    "ax.set_xlabel('Environment Steps')\n",
    "ax.set_ylabel('Average Success Rate')\n",
    "handles, labels = ax.get_legend_handles_labels()\n",
    "fig.legend(handles, labels, ncol=2, bbox_to_anchor=(0.79,1.035))\n",
    "plt.savefig(\"Comparison-PuzzleSize.pdf\",\n",
    "            bbox_inches='tight', dpi=plt.gcf().dpi)#,\n",
    "            #dpi=1000)\n",
    "plt.show()"
   ],
   "metadata": {
    "collapsed": false,
    "ExecuteTime": {
     "start_time": "2024-02-05T15:54:48.990299Z",
     "end_time": "2024-02-05T15:54:53.653239Z"
    }
   }
  },
  {
   "cell_type": "code",
   "execution_count": 24,
   "outputs": [],
   "source": [
    "path_coor = [\"/home/rosa/Documents/Uni/Masterarbeit/checkpoints/2x2_test-obs-coord_neg_distFalse_movementFalse_reward_on_changeTrue_sparseTrue_seed12345/evaluations.npz\"]\n",
    "\n",
    "path_nocoor = [\"/home/rosa/Documents/Uni/Masterarbeit/checkpoints/2x2_test-obs-nocoord_neg_distFalse_movementFalse_reward_on_changeTrue_sparseTrue_seed12345/evaluations.npz\"]"
   ],
   "metadata": {
    "collapsed": false,
    "ExecuteTime": {
     "start_time": "2024-02-06T12:33:02.614878Z",
     "end_time": "2024-02-06T12:33:02.694575Z"
    }
   }
  },
  {
   "cell_type": "code",
   "execution_count": 25,
   "outputs": [],
   "source": [
    "x = np.load(path_coor[0], mmap_mode='r')[\"timesteps\"]\n",
    "idx = np.where(x <= 1000000)\n",
    "x = x[idx]\n",
    "\n",
    "returns_coor, succ_coor = gather_data(path_coor, x, idx)\n",
    "returns_nocoo, succ_nocoor = gather_data(path_nocoor, x, idx)\n",
    "\n",
    "mean_succ_coor, std_succ_coor = compute_mean_std(x, succ_coor)\n",
    "mean_succ_nocoor, std_succ_nocoor = compute_mean_std(x, succ_nocoor)"
   ],
   "metadata": {
    "collapsed": false,
    "ExecuteTime": {
     "start_time": "2024-02-05T12:44:54.470671Z",
     "end_time": "2024-02-05T12:44:54.607466Z"
    }
   }
  },
  {
   "cell_type": "code",
   "execution_count": null,
   "outputs": [],
   "source": [
    "fig, ax = plt.subplots(1, 1, figsize=(TEXTWIDTH +0.1, TEXTWIDTH * (5**.5 - 1.2) / 2))\n",
    "\n",
    "ax.plot(x, mean_succ_coor, label=\"With Coordinates\")\n",
    "ax.fill_between(x, mean_succ_coor + std_succ_coor, mean_succ_coor - std_succ_coor, alpha=0.3)\n",
    "\n",
    "ax.plot(x, mean_succ_nocoor, label=\"Without Coordinates\")\n",
    "ax.fill_between(x, mean_succ_nocoor + std_succ_nocoor, mean_succ_nocoor - std_succ_nocoor, alpha=0.3)\n",
    "\n",
    "ax.set_ylim(top=1.)\n",
    "ax.set_title(\"Comparison of Observation Spaces\")\n",
    "\n",
    "#ax[0, 0].set_xticklabels([])\n",
    "\n",
    "#for i in range(2):\n",
    "#    for j in range(3):\n",
    "#        ax.locator_params(axis='y', nbins=3)\n",
    "\n",
    "ax.set_xlabel('Environment Steps')\n",
    "ax.set_ylabel('Average Success Rate')\n",
    "handles, labels = ax.get_legend_handles_labels()\n",
    "fig.legend(handles, labels, ncol=2, bbox_to_anchor=(0.79,1.035))\n",
    "plt.savefig(\"Comparison-PuzzleSize.pdf\",\n",
    "            bbox_inches='tight', dpi=plt.gcf().dpi)#,\n",
    "            #dpi=1000)\n",
    "plt.show()"
   ],
   "metadata": {
    "collapsed": false,
    "ExecuteTime": {
     "start_time": "2024-02-05T12:46:24.186679Z",
     "end_time": "2024-02-05T12:46:28.674574Z"
    }
   }
  },
  {
   "cell_type": "markdown",
   "source": [
    "## **Dict vs. flat Box**"
   ],
   "metadata": {
    "collapsed": false
   }
  },
  {
   "cell_type": "code",
   "execution_count": 4,
   "outputs": [],
   "source": [
    "path_flat_2x2 = [\"/home/rosa/Documents/Uni/Masterarbeit/checkpoints_obs_space_comp/skill_conditioned_2x2_flatBox_num_skills8_neg_distFalse_movementFalse_reward_on_changeFalse_sparseTrue_seed123456/evaluations.npz\",\n",
    "                 \"/home/rosa/Documents/Uni/Masterarbeit/checkpoints_obs_space_comp/skill_conditioned_2x2_flatBox_num_skills8_neg_distFalse_movementFalse_reward_on_changeFalse_sparseTrue_seed487193/evaluations.npz\"]\n",
    "\n",
    "path_dict_2x2 = [\"/home/rosa/Documents/Uni/Masterarbeit/checkpoints_obs_space_comp/skill_conditioned_2x2_dict_num_skills8_neg_distFalse_movementFalse_reward_on_changeFalse_sparseTrue_seed123456/evaluations.npz\",\n",
    "                 \"/home/rosa/Documents/Uni/Masterarbeit/checkpoints_obs_space_comp/skill_conditioned_2x2_dict_num_skills8_neg_distFalse_movementFalse_reward_on_changeFalse_sparseTrue_seed487193/evaluations.npz\"]\n"
   ],
   "metadata": {
    "collapsed": false,
    "ExecuteTime": {
     "start_time": "2024-02-06T12:35:13.456113Z",
     "end_time": "2024-02-06T12:35:13.678564Z"
    }
   }
  },
  {
   "cell_type": "code",
   "execution_count": 5,
   "outputs": [
    {
     "name": "stdout",
     "output_type": "stream",
     "text": [
      "[  1000   2000   3000   4000   5000   6000   7000   8000   9000  10000\n",
      "  11000  12000  13000  14000  15000  16000  17000  18000  19000  20000\n",
      "  21000  22000  23000  24000  25000  26000  27000  28000  29000  30000\n",
      "  31000  32000  33000  34000  35000  36000  37000  38000  39000  40000\n",
      "  41000  42000  43000  44000  45000  46000  47000  48000  49000  50000\n",
      "  51000  52000  53000  54000  55000  56000  57000  58000  59000  60000\n",
      "  61000  62000  63000  64000  65000  66000  67000  68000  69000  70000\n",
      "  71000  72000  73000  74000  75000  76000  77000  78000  79000  80000\n",
      "  81000  82000  83000  84000  85000  86000  87000  88000  89000  90000\n",
      "  91000  92000  93000  94000  95000  96000  97000  98000  99000 100000\n",
      " 101000 102000 103000 104000 105000 106000 107000 108000 109000 110000\n",
      " 111000 112000 113000 114000 115000 116000 117000 118000 119000 120000\n",
      " 121000 122000 123000 124000 125000 126000 127000 128000 129000 130000\n",
      " 131000 132000 133000 134000 135000 136000 137000 138000 139000 140000\n",
      " 141000 142000 143000 144000 145000 146000 147000 148000 149000 150000\n",
      " 151000 152000 153000 154000 155000 156000 157000 158000 159000 160000]\n",
      " key = timesteps\n",
      " [  1000   2000   3000   4000   5000   6000   7000   8000   9000  10000\n",
      "  11000  12000  13000  14000  15000  16000  17000  18000  19000  20000\n",
      "  21000  22000  23000  24000  25000  26000  27000  28000  29000  30000\n",
      "  31000  32000  33000  34000  35000  36000  37000  38000  39000  40000\n",
      "  41000  42000  43000  44000  45000  46000  47000  48000  49000  50000\n",
      "  51000  52000  53000  54000  55000  56000  57000  58000  59000  60000\n",
      "  61000  62000  63000  64000  65000  66000  67000  68000  69000  70000\n",
      "  71000  72000  73000  74000  75000  76000  77000  78000  79000  80000\n",
      "  81000  82000  83000  84000  85000  86000  87000  88000  89000  90000\n",
      "  91000  92000  93000  94000  95000  96000  97000  98000  99000 100000\n",
      " 101000 102000 103000 104000 105000 106000 107000 108000 109000 110000\n",
      " 111000 112000 113000 114000 115000 116000 117000 118000 119000 120000\n",
      " 121000 122000 123000 124000 125000 126000 127000 128000 129000 130000\n",
      " 131000 132000 133000 134000 135000 136000 137000 138000 139000 140000\n",
      " 141000 142000 143000 144000 145000 146000 147000 148000 149000 150000\n",
      " 151000 152000 153000 154000 155000 156000 157000 158000 159000 160000\n",
      " 161000 162000 163000 164000 165000 166000 167000 168000 169000 170000\n",
      " 171000 172000 173000 174000 175000 176000 177000]\n",
      " key = results\n",
      " [[0. 0. 0. ... 0. 0. 0.]\n",
      " [0. 0. 0. ... 0. 0. 0.]\n",
      " [0. 0. 0. ... 0. 0. 0.]\n",
      " ...\n",
      " [0. 0. 0. ... 0. 0. 0.]\n",
      " [0. 0. 0. ... 0. 0. 0.]\n",
      " [0. 0. 0. ... 0. 0. 0.]]\n",
      " key = ep_lengths\n",
      " [[100 100 100 ... 100 100 100]\n",
      " [100 100 100 ... 100 100 100]\n",
      " [100 100 100 ... 100 100 100]\n",
      " ...\n",
      " [100 100 100 ... 100 100 100]\n",
      " [100 100 100 ... 100 100 100]\n",
      " [100 100 100 ... 100 100 100]]\n",
      " key = timesteps\n",
      " [  1000   2000   3000   4000   5000   6000   7000   8000   9000  10000\n",
      "  11000  12000  13000  14000  15000  16000  17000  18000  19000  20000\n",
      "  21000  22000  23000  24000  25000  26000  27000  28000  29000  30000\n",
      "  31000  32000  33000  34000  35000  36000  37000  38000  39000  40000\n",
      "  41000  42000  43000  44000  45000  46000  47000  48000  49000  50000\n",
      "  51000  52000  53000  54000  55000  56000  57000  58000  59000  60000\n",
      "  61000  62000  63000  64000  65000  66000  67000  68000  69000  70000\n",
      "  71000  72000  73000  74000  75000  76000  77000  78000  79000  80000\n",
      "  81000  82000  83000  84000  85000  86000  87000  88000  89000  90000\n",
      "  91000  92000  93000  94000  95000  96000  97000  98000  99000 100000\n",
      " 101000 102000 103000 104000 105000 106000 107000 108000 109000 110000\n",
      " 111000 112000 113000 114000 115000 116000 117000 118000 119000 120000\n",
      " 121000 122000 123000 124000 125000 126000 127000 128000 129000 130000\n",
      " 131000 132000 133000 134000 135000 136000 137000 138000 139000 140000\n",
      " 141000 142000 143000 144000 145000 146000 147000 148000 149000 150000\n",
      " 151000 152000 153000 154000 155000 156000 157000 158000 159000 160000\n",
      " 161000 162000 163000 164000 165000 166000 167000 168000 169000 170000\n",
      " 171000 172000 173000]\n",
      " key = results\n",
      " [[0. 0. 0. ... 0. 0. 0.]\n",
      " [0. 0. 0. ... 0. 0. 0.]\n",
      " [0. 0. 0. ... 0. 0. 0.]\n",
      " ...\n",
      " [0. 0. 0. ... 0. 0. 0.]\n",
      " [0. 0. 0. ... 0. 0. 0.]\n",
      " [0. 0. 0. ... 0. 0. 0.]]\n",
      " key = ep_lengths\n",
      " [[100 100 100 ... 100 100 100]\n",
      " [100 100 100 ... 100 100 100]\n",
      " [100 100 100 ... 100 100 100]\n",
      " ...\n",
      " [100 100 100 ... 100 100 100]\n",
      " [100 100 100 ... 100 100 100]\n",
      " [100 100 100 ... 100 100 100]]\n",
      " key = timesteps\n",
      " [  1000   2000   3000   4000   5000   6000   7000   8000   9000  10000\n",
      "  11000  12000  13000  14000  15000  16000  17000  18000  19000  20000\n",
      "  21000  22000  23000  24000  25000  26000  27000  28000  29000  30000\n",
      "  31000  32000  33000  34000  35000  36000  37000  38000  39000  40000\n",
      "  41000  42000  43000  44000  45000  46000  47000  48000  49000  50000\n",
      "  51000  52000  53000  54000  55000  56000  57000  58000  59000  60000\n",
      "  61000  62000  63000  64000  65000  66000  67000  68000  69000  70000\n",
      "  71000  72000  73000  74000  75000  76000  77000  78000  79000  80000\n",
      "  81000  82000  83000  84000  85000  86000  87000  88000  89000  90000\n",
      "  91000  92000  93000  94000  95000  96000  97000  98000  99000 100000\n",
      " 101000 102000 103000 104000 105000 106000 107000 108000 109000 110000\n",
      " 111000 112000 113000 114000 115000 116000 117000 118000 119000 120000\n",
      " 121000 122000 123000 124000 125000 126000 127000 128000 129000 130000\n",
      " 131000 132000 133000 134000 135000 136000 137000 138000 139000 140000\n",
      " 141000 142000 143000 144000 145000 146000 147000 148000 149000 150000\n",
      " 151000 152000 153000 154000 155000 156000 157000 158000 159000 160000\n",
      " 161000 162000 163000 164000 165000 166000 167000 168000 169000 170000\n",
      " 171000 172000 173000]\n",
      " key = results\n",
      " [[0. 0. 0. ... 0. 0. 0.]\n",
      " [0. 0. 0. ... 0. 0. 0.]\n",
      " [0. 0. 0. ... 0. 0. 0.]\n",
      " ...\n",
      " [0. 0. 0. ... 0. 0. 0.]\n",
      " [0. 0. 0. ... 0. 0. 0.]\n",
      " [0. 0. 0. ... 0. 0. 0.]]\n",
      " key = ep_lengths\n",
      " [[100 100 100 ... 100 100 100]\n",
      " [100 100 100 ... 100 100 100]\n",
      " [100 100 100 ... 100 100 100]\n",
      " ...\n",
      " [100 100 100 ... 100 100 100]\n",
      " [100 100 100 ... 100 100 100]\n",
      " [100 100 100 ... 100 100 100]]\n",
      " key = timesteps\n",
      " [  1000   2000   3000   4000   5000   6000   7000   8000   9000  10000\n",
      "  11000  12000  13000  14000  15000  16000  17000  18000  19000  20000\n",
      "  21000  22000  23000  24000  25000  26000  27000  28000  29000  30000\n",
      "  31000  32000  33000  34000  35000  36000  37000  38000  39000  40000\n",
      "  41000  42000  43000  44000  45000  46000  47000  48000  49000  50000\n",
      "  51000  52000  53000  54000  55000  56000  57000  58000  59000  60000\n",
      "  61000  62000  63000  64000  65000  66000  67000  68000  69000  70000\n",
      "  71000  72000  73000  74000  75000  76000  77000  78000  79000  80000\n",
      "  81000  82000  83000  84000  85000  86000  87000  88000  89000  90000\n",
      "  91000  92000  93000  94000  95000  96000  97000  98000  99000 100000\n",
      " 101000 102000 103000 104000 105000 106000 107000 108000 109000 110000\n",
      " 111000 112000 113000 114000 115000 116000 117000 118000 119000 120000\n",
      " 121000 122000 123000 124000 125000 126000 127000 128000 129000 130000\n",
      " 131000 132000 133000 134000 135000 136000 137000 138000 139000 140000\n",
      " 141000 142000 143000 144000 145000 146000 147000 148000 149000 150000\n",
      " 151000 152000 153000 154000 155000 156000 157000 158000 159000 160000\n",
      " 161000 162000 163000 164000 165000 166000 167000 168000 169000 170000\n",
      " 171000 172000 173000 174000 175000 176000 177000 178000 179000]\n",
      " key = results\n",
      " [[0. 0. 0. ... 0. 0. 0.]\n",
      " [0. 0. 0. ... 0. 0. 0.]\n",
      " [0. 0. 0. ... 0. 0. 0.]\n",
      " ...\n",
      " [0. 0. 0. ... 0. 0. 0.]\n",
      " [0. 0. 0. ... 0. 0. 0.]\n",
      " [0. 0. 0. ... 0. 0. 0.]]\n",
      " key = ep_lengths\n",
      " [[100 100 100 ... 100 100 100]\n",
      " [100 100 100 ... 100 100 100]\n",
      " [100 100 100 ... 100 100 100]\n",
      " ...\n",
      " [100 100 100 ... 100 100 100]\n",
      " [100 100 100 ... 100 100 100]\n",
      " [100 100 100 ... 100 100 100]]\n",
      "[[0. 0. 0. 0. 0. 0. 0. 0. 0. 0. 0. 0. 0. 0. 0. 0. 0. 0. 0. 0. 0. 0. 0. 0.\n",
      "  0. 0. 0. 0. 0. 0. 0. 0. 0. 0. 0. 0. 0. 0. 0. 0. 0. 0. 0. 0. 0. 0. 0. 0.\n",
      "  0. 0. 0. 0. 0. 0. 0. 0. 0. 0. 0. 0. 0. 0. 0. 0. 0. 0. 0. 0. 0. 0. 0. 0.\n",
      "  0. 0. 0. 0. 0. 0. 0. 0. 0. 0. 0. 0. 0. 0. 0. 0. 0. 0. 0. 0. 0. 0. 0. 0.\n",
      "  0. 0. 0. 0. 0. 0. 0. 0. 0. 0. 0. 0. 0. 0. 0. 0. 0. 0. 0. 0. 0. 0. 0. 0.\n",
      "  0. 0. 0. 0. 0. 0. 0. 0. 0. 0. 0. 0. 0. 0. 0. 0. 0. 0. 0. 0. 0. 0. 0. 0.\n",
      "  0. 0. 0. 0. 0. 0. 0. 0. 0. 0. 0. 0. 0. 0. 0. 0.]\n",
      " [0. 0. 0. 0. 0. 0. 0. 0. 0. 0. 0. 0. 0. 0. 0. 0. 0. 0. 0. 0. 0. 0. 0. 0.\n",
      "  0. 0. 0. 0. 0. 0. 0. 0. 0. 0. 0. 0. 0. 0. 0. 0. 0. 0. 0. 0. 0. 0. 0. 0.\n",
      "  0. 0. 0. 0. 0. 0. 0. 0. 0. 0. 0. 0. 0. 0. 0. 0. 0. 0. 0. 0. 0. 0. 0. 0.\n",
      "  0. 0. 0. 0. 0. 0. 0. 0. 0. 0. 0. 0. 0. 0. 0. 0. 0. 0. 0. 0. 0. 0. 0. 0.\n",
      "  0. 0. 0. 0. 0. 0. 0. 0. 0. 0. 0. 0. 0. 0. 0. 0. 0. 0. 0. 0. 0. 0. 0. 0.\n",
      "  0. 0. 0. 0. 0. 0. 0. 0. 0. 0. 0. 0. 0. 0. 0. 0. 0. 0. 0. 0. 0. 0. 0. 0.\n",
      "  0. 0. 0. 0. 0. 0. 0. 0. 0. 0. 0. 0. 0. 0. 0. 0.]]\n"
     ]
    }
   ],
   "source": [
    "x = np.load(path_flat_2x2[0], mmap_mode='r')[\"timesteps\"]\n",
    "idx = np.where(x <= 160000)\n",
    "x = x[idx]\n",
    "\n",
    "print(x)\n",
    "\n",
    "returns_flat, succ_flat = gather_data(path_flat_2x2, x, idx)\n",
    "returns_dict, succ_dict = gather_data(path_dict_2x2, x, idx)\n",
    "\n",
    "print(returns_flat)\n",
    "\n",
    "mean_succ_flat, std_succ_flat = compute_mean_std(succ_flat)\n",
    "mean_succ_dict, std_succ_dict = compute_mean_std(succ_dict)"
   ],
   "metadata": {
    "collapsed": false,
    "ExecuteTime": {
     "start_time": "2024-02-06T12:35:14.607420Z",
     "end_time": "2024-02-06T12:35:14.831175Z"
    }
   }
  },
  {
   "cell_type": "code",
   "execution_count": null,
   "outputs": [],
   "source": [
    "fig, ax = plt.subplots(1, 1, figsize=(TEXTWIDTH +0.1, TEXTWIDTH * (5**.5 - 1.2) / 2))\n",
    "\n",
    "ax.plot(x, mean_succ_flat, label=\"Flat\")\n",
    "ax.fill_between(x, mean_succ_flat + std_succ_flat, mean_succ_flat - std_succ_flat, alpha=0.3)\n",
    "\n",
    "#ax.plot(x, mean_succ_dict, label=\"Dict\")\n",
    "#ax.fill_between(x, mean_succ_dict + std_succ_dict, mean_succ_dict - std_succ_dict, alpha=0.3)\n",
    "\n",
    "ax.set_ylim(top=1.)\n",
    "ax.set_title(\"Comparison of Observation Spaces\")\n",
    "\n",
    "#ax[0, 0].set_xticklabels([])\n",
    "\n",
    "#for i in range(2):\n",
    "#    for j in range(3):\n",
    "#        ax.locator_params(axis='y', nbins=3)\n",
    "\n",
    "ax.set_xlabel('Environment Steps')\n",
    "ax.set_ylabel('Average Success Rate')\n",
    "handles, labels = ax.get_legend_handles_labels()\n",
    "fig.legend(handles, labels, ncol=2, bbox_to_anchor=(0.79,1.035))\n",
    "plt.savefig(\"Comparison-PuzzleSize.pdf\",\n",
    "            bbox_inches='tight', dpi=plt.gcf().dpi)#,\n",
    "            #dpi=1000)\n",
    "plt.show()"
   ],
   "metadata": {
    "collapsed": false,
    "ExecuteTime": {
     "start_time": "2024-02-06T12:27:18.854494Z",
     "end_time": "2024-02-06T12:27:21.465538Z"
    }
   }
  },
  {
   "cell_type": "markdown",
   "source": [
    "# **Comparison of SAC Learning Algorithms**"
   ],
   "metadata": {
    "collapsed": false
   }
  },
  {
   "cell_type": "code",
   "execution_count": null,
   "metadata": {
    "ExecuteTime": {
     "start_time": "2024-01-31T16:21:06.559183Z",
     "end_time": "2024-01-31T16:21:06.652879Z"
    }
   },
   "outputs": [],
   "source": [
    "path_stable_2DGoal = [\"/home/rosa/Documents/Uni/Masterarbeit/SimpleProblems/sac_stable_baseline/checkpoints/1DGoal01/evaluations.npz\",\n",
    "                      \"/home/rosa/Documents/Uni/Masterarbeit/SimpleProblems/sac_stable_baseline/checkpoints/1DGoal02/evaluations.npz\",\n",
    "                      \"/home/rosa/Documents/Uni/Masterarbeit/SimpleProblems/sac_stable_baseline/checkpoints/1DGoal03/evaluations.npz\",\n",
    "                      \"/home/rosa/Documents/Uni/Masterarbeit/SimpleProblems/sac_stable_baseline/checkpoints/1DGoal04/evaluations.npz\",\n",
    "                      \"/home/rosa/Documents/Uni/Masterarbeit/SimpleProblems/sac_stable_baseline/checkpoints/1DGoal05/evaluations.npz\",\n",
    "                      \"/home/rosa/Documents/Uni/Masterarbeit/SimpleProblems/sac_stable_baseline/checkpoints/1DGoal06/evaluations.npz\",\n",
    "                      \"/home/rosa/Documents/Uni/Masterarbeit/SimpleProblems/sac_stable_baseline/checkpoints/1DGoal07/evaluations.npz\",\n",
    "                      \"/home/rosa/Documents/Uni/Masterarbeit/SimpleProblems/sac_stable_baseline/checkpoints/1DGoal08/evaluations.npz\",\n",
    "                      \"/home/rosa/Documents/Uni/Masterarbeit/SimpleProblems/sac_stable_baseline/checkpoints/1DGoal09/evaluations.npz\",\n",
    "                      \"/home/rosa/Documents/Uni/Masterarbeit/SimpleProblems/sac_stable_baseline/checkpoints/1DGoal10/evaluations.npz\"]\n",
    "\n",
    "path_stable_2DGoal05 = [\"/home/rosa/Documents/Uni/Masterarbeit/SimpleProblems/sac_stable_baseline/checkpoints/1DGoal01-05action/evaluations.npz\",\n",
    "                      \"/home/rosa/Documents/Uni/Masterarbeit/SimpleProblems/sac_stable_baseline/checkpoints/1DGoal02-05action/evaluations.npz\",\n",
    "                      \"/home/rosa/Documents/Uni/Masterarbeit/SimpleProblems/sac_stable_baseline/checkpoints/1DGoal03-05action/evaluations.npz\",\n",
    "                      \"/home/rosa/Documents/Uni/Masterarbeit/SimpleProblems/sac_stable_baseline/checkpoints/1DGoal04-05action/evaluations.npz\",\n",
    "                      \"/home/rosa/Documents/Uni/Masterarbeit/SimpleProblems/sac_stable_baseline/checkpoints/1DGoal05-05action/evaluations.npz\"]\n",
    "\n",
    "path_stable_2DGoal_ri = [\"/home/rosa/Documents/Uni/Masterarbeit/SimpleProblems/sac_stable_baseline/checkpoints/1DGoal01-randominit/evaluations.npz\",\n",
    "                      \"/home/rosa/Documents/Uni/Masterarbeit/SimpleProblems/sac_stable_baseline/checkpoints/1DGoal02-randominit/evaluations.npz\",\n",
    "                      \"/home/rosa/Documents/Uni/Masterarbeit/SimpleProblems/sac_stable_baseline/checkpoints/1DGoal03-randominit/evaluations.npz\",\n",
    "                      \"/home/rosa/Documents/Uni/Masterarbeit/SimpleProblems/sac_stable_baseline/checkpoints/1DGoal04-randominit/evaluations.npz\",\n",
    "                      \"/home/rosa/Documents/Uni/Masterarbeit/SimpleProblems/sac_stable_baseline/checkpoints/1DGoal05-randominit/evaluations.npz\"]\n",
    "\n",
    "path_stable_2DGoal_ri025 = [\"/home/rosa/Documents/Uni/Masterarbeit/SimpleProblems/sac_stable_baseline/checkpoints/1DGoal01-randominit-025action/evaluations.npz\",\n",
    "                            \"/home/rosa/Documents/Uni/Masterarbeit/SimpleProblems/sac_stable_baseline/checkpoints/1DGoal02-randominit-025action/evaluations.npz\",\n",
    "                            \"/home/rosa/Documents/Uni/Masterarbeit/SimpleProblems/sac_stable_baseline/checkpoints/1DGoal03-randominit-025action/evaluations.npz\",\n",
    "                            \"/home/rosa/Documents/Uni/Masterarbeit/SimpleProblems/sac_stable_baseline/checkpoints/1DGoal04-randominit-025action/evaluations.npz\",\n",
    "                            \"/home/rosa/Documents/Uni/Masterarbeit/SimpleProblems/sac_stable_baseline/checkpoints/1DGoal05-randominit-025action/evaluations.npz\",\n",
    "                            \"/home/rosa/Documents/Uni/Masterarbeit/SimpleProblems/sac_stable_baseline/checkpoints/1DGoal06-randominit-025action/evaluations.npz\",\n",
    "                            \"/home/rosa/Documents/Uni/Masterarbeit/SimpleProblems/sac_stable_baseline/checkpoints/1DGoal07-randominit-025action/evaluations.npz\",\n",
    "                            \"/home/rosa/Documents/Uni/Masterarbeit/SimpleProblems/sac_stable_baseline/checkpoints/1DGoal08-randominit-025action/evaluations.npz\",\n",
    "                            \"/home/rosa/Documents/Uni/Masterarbeit/SimpleProblems/sac_stable_baseline/checkpoints/1DGoal09-randominit-025action/evaluations.npz\",\n",
    "                            \"/home/rosa/Documents/Uni/Masterarbeit/SimpleProblems/sac_stable_baseline/checkpoints/1DGoal10-randominit-025action/evaluations.npz\"]\n",
    "\n",
    "path_tandon_2dGoal = [\"/home/rosa/Documents/Uni/Masterarbeit/SimpleProblems/sac_pran/1DGoal01-randominit-025action_50.npz\",\n",
    "                      \"/home/rosa/Documents/Uni/Masterarbeit/SimpleProblems/sac_pran/1DGoal02-randominit-025action_50.npz\",\n",
    "                      \"/home/rosa/Documents/Uni/Masterarbeit/SimpleProblems/sac_pran/1DGoal03-randominit-025action_50.npz\",\n",
    "                      \"/home/rosa/Documents/Uni/Masterarbeit/SimpleProblems/sac_pran/1DGoal04-randominit-025action_50.npz\",\n",
    "                      \"/home/rosa/Documents/Uni/Masterarbeit/SimpleProblems/sac_pran/1DGoal05-randominit-025action_50.npz\",\n",
    "                      \"/home/rosa/Documents/Uni/Masterarbeit/SimpleProblems/sac_pran/1DGoal06-randominit-025action_50.npz\",\n",
    "                      \"/home/rosa/Documents/Uni/Masterarbeit/SimpleProblems/sac_pran/1DGoal07-randominit-025action_50.npz\",\n",
    "                      \"/home/rosa/Documents/Uni/Masterarbeit/SimpleProblems/sac_pran/1DGoal08-randominit-025action_50.npz\",\n",
    "                      \"/home/rosa/Documents/Uni/Masterarbeit/SimpleProblems/sac_pran/1DGoal09-randominit-025action_50.npz\",\n",
    "                      \"/home/rosa/Documents/Uni/Masterarbeit/SimpleProblems/sac_pran/1DGoal10-randominit-025action_50.npz\"]\n"
   ]
  },
  {
   "cell_type": "code",
   "execution_count": null,
   "metadata": {
    "ExecuteTime": {
     "start_time": "2024-01-31T16:21:06.591185Z",
     "end_time": "2024-01-31T16:21:06.653525Z"
    }
   },
   "outputs": [],
   "source": [
    "path_stable_1x2 = [\"/home/rosa/Documents/Uni/Masterarbeit/SEADS_SlidingPuzzle/SAC/checkpoints/1x2_puzzle/Comparison_Tandon/StableBaselines3/skill_conditioned_1x2_eval01_num_skills2_neg_distFalse_movementFalse_reward_on_changeFalse_sparseFalse/evaluations.npz\",\n",
    "                   \"/home/rosa/Documents/Uni/Masterarbeit/SEADS_SlidingPuzzle/SAC/checkpoints/1x2_puzzle/Comparison_Tandon/StableBaselines3/skill_conditioned_1x2_eval02_num_skills2_neg_distFalse_movementFalse_reward_on_changeFalse_sparseFalse/evaluations.npz\",\n",
    "                   \"/home/rosa/Documents/Uni/Masterarbeit/SEADS_SlidingPuzzle/SAC/checkpoints/1x2_puzzle/Comparison_Tandon/StableBaselines3/skill_conditioned_1x2_eval03_num_skills2_neg_distFalse_movementFalse_reward_on_changeFalse_sparseFalse/evaluations.npz\",\n",
    "                   \"/home/rosa/Documents/Uni/Masterarbeit/SEADS_SlidingPuzzle/SAC/checkpoints/1x2_puzzle/Comparison_Tandon/StableBaselines3/skill_conditioned_1x2_eval04_num_skills2_neg_distFalse_movementFalse_reward_on_changeFalse_sparseFalse/evaluations.npz\",\n",
    "                   \"/home/rosa/Documents/Uni/Masterarbeit/SEADS_SlidingPuzzle/SAC/checkpoints/1x2_puzzle/Comparison_Tandon/StableBaselines3/skill_conditioned_1x2_eval05_num_skills2_neg_distFalse_movementFalse_reward_on_changeFalse_sparseFalse/evaluations.npz\",\n",
    "                   \"/home/rosa/Documents/Uni/Masterarbeit/SEADS_SlidingPuzzle/SAC/checkpoints/1x2_puzzle/Comparison_Tandon/StableBaselines3/skill_conditioned_1x2_eval06_num_skills2_neg_distFalse_movementFalse_reward_on_changeFalse_sparseFalse/evaluations.npz\",\n",
    "                   \"/home/rosa/Documents/Uni/Masterarbeit/SEADS_SlidingPuzzle/SAC/checkpoints/1x2_puzzle/Comparison_Tandon/StableBaselines3/skill_conditioned_1x2_eval07_num_skills2_neg_distFalse_movementFalse_reward_on_changeFalse_sparseFalse/evaluations.npz\",\n",
    "                   \"/home/rosa/Documents/Uni/Masterarbeit/SEADS_SlidingPuzzle/SAC/checkpoints/1x2_puzzle/Comparison_Tandon/StableBaselines3/skill_conditioned_1x2_eval08_num_skills2_neg_distFalse_movementFalse_reward_on_changeFalse_sparseFalse/evaluations.npz\",\n",
    "                   \"/home/rosa/Documents/Uni/Masterarbeit/SEADS_SlidingPuzzle/SAC/checkpoints/1x2_puzzle/Comparison_Tandon/StableBaselines3/skill_conditioned_1x2_eval09_num_skills2_neg_distFalse_movementFalse_reward_on_changeFalse_sparseFalse/evaluations.npz\",\n",
    "                   \"/home/rosa/Documents/Uni/Masterarbeit/SEADS_SlidingPuzzle/SAC/checkpoints/1x2_puzzle/Comparison_Tandon/StableBaselines3/skill_conditioned_1x2_eval10_num_skills2_neg_distFalse_movementFalse_reward_on_changeFalse_sparseFalse/evaluations.npz\"]\n",
    "\n",
    "path_tandon_1x2 = [\"/home/rosa/Documents/Uni/Masterarbeit/SEADS_SlidingPuzzle/SAC/checkpoints/1x2_puzzle/Comparison_Tandon/Tandon/1x2puzzle_eval01_1500.npz\",\n",
    "                   \"/home/rosa/Documents/Uni/Masterarbeit/SEADS_SlidingPuzzle/SAC/checkpoints/1x2_puzzle/Comparison_Tandon/Tandon/1x2puzzle_eval02_1500.npz\",\n",
    "                   \"/home/rosa/Documents/Uni/Masterarbeit/SEADS_SlidingPuzzle/SAC/checkpoints/1x2_puzzle/Comparison_Tandon/Tandon/1x2puzzle_eval03_1500.npz\",\n",
    "                   \"/home/rosa/Documents/Uni/Masterarbeit/SEADS_SlidingPuzzle/SAC/checkpoints/1x2_puzzle/Comparison_Tandon/Tandon/1x2puzzle_eval04_1500.npz\",\n",
    "                   \"/home/rosa/Documents/Uni/Masterarbeit/SEADS_SlidingPuzzle/SAC/checkpoints/1x2_puzzle/Comparison_Tandon/Tandon/1x2puzzle_eval05_1500.npz\",\n",
    "                   \"/home/rosa/Documents/Uni/Masterarbeit/SEADS_SlidingPuzzle/SAC/checkpoints/1x2_puzzle/Comparison_Tandon/Tandon/1x2puzzle_eval06_1500.npz\",\n",
    "                   \"/home/rosa/Documents/Uni/Masterarbeit/SEADS_SlidingPuzzle/SAC/checkpoints/1x2_puzzle/Comparison_Tandon/Tandon/1x2puzzle_eval07_1500.npz\",\n",
    "                   \"/home/rosa/Documents/Uni/Masterarbeit/SEADS_SlidingPuzzle/SAC/checkpoints/1x2_puzzle/Comparison_Tandon/Tandon/1x2puzzle_eval08_1500.npz\",\n",
    "                   \"/home/rosa/Documents/Uni/Masterarbeit/SEADS_SlidingPuzzle/SAC/checkpoints/1x2_puzzle/Comparison_Tandon/Tandon/1x2puzzle_eval09_1500.npz\",\n",
    "                   \"/home/rosa/Documents/Uni/Masterarbeit/SEADS_SlidingPuzzle/SAC/checkpoints/1x2_puzzle/Comparison_Tandon/Tandon/1x2puzzle_eval10_1500.npz\"]"
   ]
  },
  {
   "cell_type": "code",
   "execution_count": null,
   "metadata": {
    "ExecuteTime": {
     "start_time": "2024-01-31T16:21:06.637781Z",
     "end_time": "2024-01-31T16:21:06.654177Z"
    }
   },
   "outputs": [],
   "source": [
    "path_stable_2x2 = [\"SAC/checkpoints/2x2_puzzle/Comparison_Tandon/StableBaselines3/skill_conditioned_2x2_eval01_num_skills8_neg_distFalse_movementFalse_reward_on_changeTrue_sparseTrue/evaluations.npz\",\n",
    "               \"SAC/checkpoints/2x2_puzzle/Comparison_Tandon/StableBaselines3/skill_conditioned_2x2_eval02_num_skills8_neg_distFalse_movementFalse_reward_on_changeTrue_sparseTrue/evaluations.npz\",\n",
    "               \"SAC/checkpoints/2x2_puzzle/Comparison_Tandon/StableBaselines3/skill_conditioned_2x2_eval03_num_skills8_neg_distFalse_movementFalse_reward_on_changeTrue_sparseTrue/evaluations.npz\",\n",
    "               \"SAC/checkpoints/2x2_puzzle/Comparison_Tandon/StableBaselines3/skill_conditioned_2x2_eval04_num_skills8_neg_distFalse_movementFalse_reward_on_changeTrue_sparseTrue/evaluations.npz\",\n",
    "               \"SAC/checkpoints/2x2_puzzle/Comparison_Tandon/StableBaselines3/skill_conditioned_2x2_eval05_num_skills8_neg_distFalse_movementFalse_reward_on_changeTrue_sparseTrue/evaluations.npz\",\n",
    "               \"SAC/checkpoints/2x2_puzzle/Comparison_Tandon/StableBaselines3/skill_conditioned_2x2_eval06_num_skills8_neg_distFalse_movementFalse_reward_on_changeTrue_sparseTrue/evaluations.npz\",\n",
    "               \"SAC/checkpoints/2x2_puzzle/Comparison_Tandon/StableBaselines3/skill_conditioned_2x2_eval07_num_skills8_neg_distFalse_movementFalse_reward_on_changeTrue_sparseTrue/evaluations.npz\",\n",
    "               \"SAC/checkpoints/2x2_puzzle/Comparison_Tandon/StableBaselines3/skill_conditioned_2x2_eval08_num_skills8_neg_distFalse_movementFalse_reward_on_changeTrue_sparseTrue/evaluations.npz\",\n",
    "               \"SAC/checkpoints/2x2_puzzle/Comparison_Tandon/StableBaselines3/skill_conditioned_2x2_eval09_num_skills8_neg_distFalse_movementFalse_reward_on_changeTrue_sparseTrue/evaluations.npz\",\n",
    "               \"SAC/checkpoints/2x2_puzzle/Comparison_Tandon/StableBaselines3/skill_conditioned_2x2_eval10_num_skills8_neg_distFalse_movementFalse_reward_on_changeTrue_sparseTrue/evaluations.npz\"]\n",
    "\n",
    "path_tandon_2x2 = [\"SAC/checkpoints/2x2_puzzle/Comparison_Tandon/Tandon/eval01_2000.npz\",\n",
    "               \"SAC/checkpoints/2x2_puzzle/Comparison_Tandon/Tandon/eval02_2000.npz\",\n",
    "               \"SAC/checkpoints/2x2_puzzle/Comparison_Tandon/Tandon/eval03_2000.npz\",\n",
    "               \"SAC/checkpoints/2x2_puzzle/Comparison_Tandon/Tandon/eval04_2000.npz\",\n",
    "               \"SAC/checkpoints/2x2_puzzle/Comparison_Tandon/Tandon/eval05_2000.npz\",\n",
    "               \"SAC/checkpoints/2x2_puzzle/Comparison_Tandon/Tandon/eval06_2000.npz\",\n",
    "               \"SAC/checkpoints/2x2_puzzle/Comparison_Tandon/Tandon/eval07_2000.npz\",\n",
    "               \"SAC/checkpoints/2x2_puzzle/Comparison_Tandon/Tandon/eval08_2000.npz\",\n",
    "               \"SAC/checkpoints/2x2_puzzle/Comparison_Tandon/Tandon/eval09_2000.npz\",\n",
    "               \"SAC/checkpoints/2x2_puzzle/Comparison_Tandon/Tandon/eval10_2000.npz\"]\n",
    "\n",
    "path_tandon_2x2 = [\"SAC/checkpoints/2x2_puzzle/Comparison_Tandon/Tandon/2x2puzzle_eval01_2000.npz\",\n",
    "                   \"SAC/checkpoints/2x2_puzzle/Comparison_Tandon/Tandon/2x2puzzle_eval02_2000.npz\",\n",
    "                   \"SAC/checkpoints/2x2_puzzle/Comparison_Tandon/Tandon/2x2puzzle_eval03_2000.npz\",\n",
    "                   \"SAC/checkpoints/2x2_puzzle/Comparison_Tandon/Tandon/2x2puzzle_eval04_2000.npz\",\n",
    "                   \"SAC/checkpoints/2x2_puzzle/Comparison_Tandon/Tandon/2x2puzzle_eval05_2000.npz\",\n",
    "                   \"SAC/checkpoints/2x2_puzzle/Comparison_Tandon/Tandon/2x2puzzle_eval06_2000.npz\",\n",
    "                   \"SAC/checkpoints/2x2_puzzle/Comparison_Tandon/Tandon/2x2puzzle_eval07_2000.npz\",\n",
    "                   \"SAC/checkpoints/2x2_puzzle/Comparison_Tandon/Tandon/2x2puzzle_eval08_2000.npz\",\n",
    "                   \"SAC/checkpoints/2x2_puzzle/Comparison_Tandon/Tandon/2x2puzzle_eval09_2000.npz\",\n",
    "                   \"SAC/checkpoints/2x2_puzzle/Comparison_Tandon/Tandon/2x2puzzle_eval10_2000.npz\"]"
   ]
  },
  {
   "cell_type": "code",
   "execution_count": null,
   "metadata": {
    "ExecuteTime": {
     "start_time": "2024-01-31T16:21:06.638429Z",
     "end_time": "2024-01-31T16:21:06.744823Z"
    }
   },
   "outputs": [],
   "source": [
    "data_stable = np.load(path_stable_2x2[1], mmap_mode='r')\n",
    "for k in data_stable.files:\n",
    "    print(k, data_stable[k])\n",
    "    \n",
    "data_tandon = np.load(path_tandon_2x2[0], mmap_mode='r')\n",
    "for k in data_tandon.files:\n",
    "    print(k, data_tandon[k])"
   ]
  },
  {
   "cell_type": "code",
   "execution_count": null,
   "outputs": [],
   "source": [
    "x = np.load(path_stable_2DGoal[0], mmap_mode='r')[\"timesteps\"]\n",
    "idx = np.where(x <= 50000)\n",
    "x = x[idx]\n",
    "\n",
    "returns_stable, succ_stable = gather_data(path_stable_2DGoal, x, idx)\n",
    "returns_tandon, succ_tandon = gather_data(path_tandon_2dGoal, x, idx)\n",
    "\n",
    "returns_stable05, succ_stable05 = gather_data(path_stable_2DGoal05, x, idx)\n",
    "returns_stable_ri, succ_stable_ri = gather_data(path_stable_2DGoal_ri, x, idx)\n",
    "returns_stable_ri025, succ_stable_ri025 = gather_data(path_stable_2DGoal_ri025, x, idx)\n",
    "\n",
    "mean_return_stable, std_return_stable = compute_mean_std(x, returns_stable)\n",
    "mean_succ_stable, std_succ_stable = compute_mean_std(x, succ_stable)\n",
    "\n",
    "mean_return_tandon, std_return_tandon = compute_mean_std(x, returns_tandon)\n",
    "mean_succ_tandon, std_succ_tandon = compute_mean_std(x, succ_tandon)\n",
    "\n",
    "mean_return_stable05, std_return_stable05 = compute_mean_std(x, returns_stable05)\n",
    "mean_succ_stable05, std_succ_stable05 = compute_mean_std(x, succ_stable05)\n",
    "mean_return_stable_ri, std_return_stable_ri = compute_mean_std(x, returns_stable_ri)\n",
    "mean_succ_stable_ri, std_succ_stable_ri = compute_mean_std(x, succ_stable_ri)\n",
    "mean_return_stable_ri025, std_return_stable_ri025 = compute_mean_std(x, returns_stable_ri025)\n",
    "mean_succ_stable_ri025, std_succ_stable_ri025 = compute_mean_std(x, succ_stable_ri025)"
   ],
   "metadata": {
    "collapsed": false
   }
  },
  {
   "cell_type": "code",
   "execution_count": null,
   "outputs": [],
   "source": [
    "fig, ax = plt.subplots(2, 3, figsize=(TEXTWIDTH +0.1, TEXTWIDTH * (5**.5 - 1.2) / 2))\n",
    "######################################################################################\n",
    "# 2D Line Goal ###\n",
    "##################\n",
    "\n",
    "ax[0, 0].set_ylim(top=100)\n",
    "ax[0, 0].plot(x, mean_return_stable_ri025, label=\"Stable Baselines3\")\n",
    "ax[0, 0].fill_between(x, mean_return_stable_ri025 + std_return_stable_ri025, mean_return_stable_ri025 - std_return_stable_ri025, alpha=0.3)\n",
    "ax[0, 0].plot(x, mean_return_tandon, label=\"Tandons Implementation\")\n",
    "ax[0, 0].fill_between(x, mean_return_tandon + std_return_tandon, mean_return_tandon - std_return_tandon, alpha=0.3)\n",
    "ax[0, 0].set_ylim(top=100)\n",
    "\n",
    "ax[1, 0].plot(x, mean_succ_stable_ri025, label=\"Stable Baselines3\")\n",
    "ax[1, 0].fill_between(x, mean_succ_stable_ri025 + std_succ_stable_ri025, mean_succ_stable_ri025 - std_succ_stable_ri025, alpha=0.3)\n",
    "ax[1, 0].plot(x, mean_succ_tandon, label=\"Tandons Implementation\")\n",
    "ax[1, 0].fill_between(x, mean_succ_tandon + std_succ_tandon, mean_succ_tandon - std_succ_tandon, alpha=0.3)\n",
    "ax[1, 0].set_ylim(top=1.)\n",
    "ax[0, 0].set_title(\"2D Line Goal\")\n",
    "\n",
    "######################################################################################\n",
    "# 1x2 puzzle #####\n",
    "##################\n",
    "\n",
    "x = np.load(path_stable_1x2[0], mmap_mode='r')[\"timesteps\"]\n",
    "idx = np.where(x <= 100000)\n",
    "x = x[idx]\n",
    "\n",
    "returns_stable, succ_stable = gather_data(path_stable_1x2, x, idx)\n",
    "returns_tandon, succ_tandon = gather_data(path_tandon_1x2, x, idx)\n",
    "\n",
    "mean_return_stable, std_return_stable = compute_mean_std(x, returns_stable)\n",
    "mean_succ_stable, std_succ_stable = compute_mean_std(x, succ_stable)\n",
    "\n",
    "mean_return_tandon, std_return_tandon = compute_mean_std(x, returns_tandon)\n",
    "mean_succ_tandon, std_succ_tandon = compute_mean_std(x, succ_tandon)\n",
    "\n",
    "ax[0, 1].plot(x, mean_return_stable, label=\"Stable Baselines3\")\n",
    "ax[0, 1].fill_between(x, mean_return_stable + std_return_stable, mean_return_stable - std_return_stable, alpha=0.3)\n",
    "ax[0, 1].plot(x, mean_return_tandon, label=\"Tandons Implementation\")\n",
    "ax[0, 1].fill_between(x, mean_return_tandon + std_return_tandon, mean_return_tandon - std_return_tandon, alpha=0.3)\n",
    "ax[0, 1].set_ylim(top=100)\n",
    "\n",
    "\n",
    "ax[1, 1].plot(x, mean_succ_stable, label=\"Stable Baselines3\")\n",
    "ax[1, 1].fill_between(x, mean_succ_stable + std_succ_stable, mean_succ_stable - std_succ_stable, alpha=0.3)\n",
    "ax[1, 1].plot(x, mean_succ_tandon, label=\"Tandons Implementation\")\n",
    "ax[1, 1].fill_between(x, mean_succ_tandon + std_succ_tandon, mean_succ_tandon - std_succ_tandon, alpha=0.3)\n",
    "ax[1, 1].set_ylim(top=1.)\n",
    "ax[0, 1].set_title(\"1x2 Puzzle\")\n",
    "\n",
    "######################################################################################\n",
    "# 2x2 puzzle #####\n",
    "##################\n",
    "\n",
    "x = np.load(path_stable_2x2[0], mmap_mode='r')[\"timesteps\"]\n",
    "idx = np.where(x <= 160000)\n",
    "x = x[idx]\n",
    "\n",
    "returns_stable, succ_stable = gather_data(path_stable_2x2, x, idx)\n",
    "returns_tandon, succ_tandon = gather_data(path_tandon_2x2, x, idx)\n",
    "\n",
    "mean_return_stable, std_return_stable = compute_mean_std(x, returns_stable)\n",
    "mean_succ_stable, std_succ_stable = compute_mean_std(x, succ_stable)\n",
    "\n",
    "mean_return_tandon, std_return_tandon = compute_mean_std(x, returns_tandon)\n",
    "mean_succ_tandon, std_succ_tandon = compute_mean_std(x, succ_tandon)\n",
    "\n",
    "ax[0, 2].plot(x, mean_return_stable, label=\"Stable Baselines3\")\n",
    "ax[0, 2].fill_between(x, mean_return_stable + std_return_stable, mean_return_stable - std_return_stable, alpha=0.3)\n",
    "ax[0, 2].plot(x, mean_return_tandon, label=\"Tandons Implementation\")\n",
    "ax[0, 2].fill_between(x, mean_return_tandon + std_return_tandon, mean_return_tandon - std_return_tandon, alpha=0.3)\n",
    "ax[0, 2].set_ylim(top=100)\n",
    "\n",
    "\n",
    "ax[1, 2].plot(x, mean_succ_stable, label=\"Stable Baselines3\")\n",
    "ax[1, 2].fill_between(x, mean_succ_stable + std_succ_stable, mean_succ_stable - std_succ_stable, alpha=0.3)\n",
    "ax[1, 2].plot(x, mean_succ_tandon, label=\"Tandons Implementation\")\n",
    "ax[1, 2].fill_between(x, mean_succ_tandon + std_succ_tandon, mean_succ_tandon - std_succ_tandon, alpha=0.3)\n",
    "ax[1, 2].set_ylim(top=1.)\n",
    "ax[0, 2].set_title(\"2x2 Puzzle\")\n",
    "\n",
    "ax[0, 0].set_xticklabels([])\n",
    "ax[0, 1].set_xticklabels([])\n",
    "ax[0, 2].set_xticklabels([])\n",
    "\n",
    "for i in range(2):\n",
    "    for j in range(3):\n",
    "        ax[i, j].locator_params(axis='y', nbins=3)\n",
    "\n",
    "ax[1, 1].set_xlabel('Environment Steps')\n",
    "ax[0, 0].set_ylabel('Average Return')\n",
    "ax[1, 0].set_ylabel('Average Success Rate')\n",
    "handles, labels = ax[0, 0].get_legend_handles_labels()\n",
    "fig.legend(handles, labels, ncol=2, bbox_to_anchor=(0.79,1.035))\n",
    "plt.savefig(\"Comparison.pdf\",\n",
    "            bbox_inches='tight', dpi=plt.gcf().dpi)#,\n",
    "            #dpi=1000)\n",
    "plt.show()"
   ],
   "metadata": {
    "collapsed": false,
    "ExecuteTime": {
     "start_time": "2024-01-31T11:18:09.818708Z",
     "end_time": "2024-01-31T11:18:15.377223Z"
    }
   }
  },
  {
   "cell_type": "markdown",
   "source": [
    "Every 1000 environment steps, we evaluated for 10 episodes and averaged the returns and success rate over them. We did 10 runs like this. In bold, we can see the mean of those runs. The shaded areas visualize the standard deviation. During training, we terminated an episode on change of symbolic state. However, during evaluation we did not do so but ended every episode after 100 steps. This way we can see via the return how long the actor took to reach the goal state in an episode.\n",
    "\n",
    "Difference in starting to see Increase in success for 1x2 and 2x2 puzzle -> Boarders are the same for both puzzles. Thus, in the bigger puzzle there is less free space. In the small puzzle there is much exploration in the beginning. Because, there is a lot of free space agent has many episodes of exploration, where it does not get any reward in training, such that it does not learn much in the beginning. We observed that for Tandons implementation the policy seems to converge quicker and explores the space less well, leading to the poor performance in the 2x2 puzzle."
   ],
   "metadata": {
    "collapsed": false
   }
  },
  {
   "cell_type": "markdown",
   "source": [
    "# **Comparison of FM Implementzations**"
   ],
   "metadata": {
    "collapsed": false
   }
  },
  {
   "cell_type": "code",
   "execution_count": null,
   "metadata": {
    "ExecuteTime": {
     "start_time": "2024-01-30T18:04:43.962456Z",
     "end_time": "2024-01-30T18:04:44.077805Z"
    }
   },
   "outputs": [],
   "source": [
    "simple_path = [\"fm_eval/fm_eval_empty_input_4skills_seed12345.npz\", \"fm_eval/fm_eval_empty_input_24skills_seed12345.npz\"]\n",
    "symstate_path = [\"fm_eval/fm_eval_sym_input_4skills_seed12345.npz\", \"fm_eval/fm_eval_sym_input_24skills_seed12345.npz\"]\n",
    "lookup_path = [\"fm_eval/fm_eval_lookup_4.npz\", \"fm_eval/fm_eval_lookup_24.npz\"]"
   ]
  },
  {
   "cell_type": "code",
   "execution_count": null,
   "metadata": {
    "ExecuteTime": {
     "start_time": "2024-01-30T18:04:43.963291Z",
     "end_time": "2024-01-30T18:04:44.079825Z"
    }
   },
   "outputs": [],
   "source": [
    "data_simple_4skills = np.load(simple_path[0], mmap_mode='r')\n",
    "data_simple_24skills = np.load(simple_path[1], mmap_mode='r')\n",
    "for k in data_simple_4skills.files:\n",
    "    print(k, data_simple_4skills[k])\n",
    "    \n",
    "data_sym_4skills = np.load(symstate_path[0], mmap_mode='r')\n",
    "data_sym_24skills = np.load(symstate_path[1], mmap_mode='r')\n",
    "for k in data_sym_4skills.files:\n",
    "    print(k, data_sym_4skills[k])\n",
    "\n",
    "data_lookup_4skills = np.load(lookup_path[0], mmap_mode='r')\n",
    "data_lookup_24skills = np.load(lookup_path[1], mmap_mode='r')"
   ]
  },
  {
   "cell_type": "code",
   "execution_count": null,
   "metadata": {
    "ExecuteTime": {
     "start_time": "2024-01-30T18:04:44.060743Z",
     "end_time": "2024-01-30T18:04:58.877482Z"
    }
   },
   "outputs": [],
   "source": [
    "fig, ax = plt.subplots(2,2, sharex=True)\n",
    "\n",
    "ax[0, 0].plot(np.arange(data_simple_4skills[\"test_loss\"].shape[0]), data_simple_4skills[\"test_loss\"], label=\"Input: empty field\")\n",
    "ax[0, 0].plot(np.arange(data_simple_4skills[\"test_loss\"].shape[0]), data_sym_4skills[\"test_loss\"], label=\"Input: symbolic state\")\n",
    "ax[0, 0].plot(np.arange(data_simple_4skills[\"test_loss\"].shape[0]), data_lookup_4skills[\"test_loss\"], \"--\", label=\"Lookup table\")\n",
    "\n",
    "ax[1, 0].plot(np.arange(data_simple_4skills[\"test_acc\"].shape[0]), data_simple_4skills[\"test_acc\"], label=\"Input: empty field\")\n",
    "ax[1, 0].plot(np.arange(data_simple_4skills[\"test_acc\"].shape[0]), data_sym_4skills[\"test_acc\"], label=\"Input: symbolic state\")\n",
    "ax[1, 0].plot(np.arange(data_simple_4skills[\"test_acc\"].shape[0]), data_lookup_4skills[\"test_acc\"], \"--\", label=\"Lookup table\")\n",
    "ax[0, 0].set_title(\"Multiple skill effects\")\n",
    "\n",
    "ax[0, 1].plot(np.arange(data_simple_24skills[\"test_loss\"].shape[0]), data_simple_24skills[\"test_loss\"], label=\"Input:empty field\")\n",
    "ax[0, 1].plot(np.arange(data_simple_24skills[\"test_loss\"].shape[0]), data_sym_24skills[\"test_loss\"], label=\"Input: symbolic state\")\n",
    "ax[0, 1].plot(np.arange(data_simple_24skills[\"test_loss\"].shape[0]), data_lookup_24skills[\"test_loss\"], \"--\", label=\"Lookup table\")\n",
    "\n",
    "ax[1, 1].plot(np.arange(data_simple_24skills[\"test_acc\"].shape[0]), data_simple_24skills[\"test_acc\"], label=\"Input: empty field\")\n",
    "ax[1, 1].plot(np.arange(data_simple_24skills[\"test_acc\"].shape[0]), data_sym_24skills[\"test_acc\"], label=\"Input: symbolic state\")\n",
    "ax[1, 1].plot(np.arange(data_simple_24skills[\"test_acc\"].shape[0]), data_lookup_24skills[\"test_acc\"], \"--\", label=\"Lookup table\")\n",
    "ax[0, 1].set_title(\"Single skill effect\")\n",
    "\n",
    "fig.text(0.5, 0.03, 'Epochs', ha='center')\n",
    "fig.text(0.04, 0.28, 'Validation Accuracy', va='center', rotation='vertical')\n",
    "fig.text(0.04, 0.7, 'Validation Loss', va='center', rotation='vertical')\n",
    "\n",
    "ax[0, 0].set_title(\"4 Skills\")\n",
    "ax[0, 1].set_title(\"24 Skills\")\n",
    "\n",
    "handles, labels = ax[1, 1].get_legend_handles_labels()\n",
    "fig.legend(handles, labels, ncol=3, bbox_to_anchor=(0.89,1.03))\n",
    "plt.savefig(\"Fm_Comparison.svg\", bbox_inches='tight')\n",
    "plt.show()\n"
   ]
  },
  {
   "cell_type": "code",
   "execution_count": null,
   "metadata": {
    "ExecuteTime": {
     "start_time": "2024-01-30T18:04:58.723567Z",
     "end_time": "2024-01-30T18:04:58.896567Z"
    }
   },
   "outputs": [],
   "source": [
    "# plot perforamnce of fm with sym input dependent on batch size\n",
    "plt.subplots()"
   ]
  }
 ],
 "metadata": {
  "kernelspec": {
   "display_name": "Python 3 (ipykernel)",
   "language": "python",
   "name": "python3"
  },
  "language_info": {
   "codemirror_mode": {
    "name": "ipython",
    "version": 3
   },
   "file_extension": ".py",
   "mimetype": "text/x-python",
   "name": "python",
   "nbconvert_exporter": "python",
   "pygments_lexer": "ipython3",
   "version": "3.10.12"
  }
 },
 "nbformat": 4,
 "nbformat_minor": 1
}
